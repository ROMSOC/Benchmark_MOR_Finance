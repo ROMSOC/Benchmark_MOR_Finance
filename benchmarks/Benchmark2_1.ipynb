{
 "cells": [
  {
   "cell_type": "markdown",
   "metadata": {},
   "source": [
    "Benchmarks for model order reduction in finance\n",
    "============\n",
    "\n",
    "### Benchmark Case 2.1: Classical Greedy Sampling\n",
    "\n",
    "The main task of this research is to implement a parametric model order reduction\n",
    "approach for financial risk analysis. Second benchmark case is to verify \n",
    "the implemented MOR algorithm. We use a finite difference method for \n",
    "simulating the convection-diffusion-reaction PDE. \n",
    "The projection-based MOR approach has been implemented, and \n",
    "the reduced-order basis is obtained using the proper orthogonal decomposition \n",
    "approach with the classical and adaptive greedy sampling methods.\n",
    "This benchmark case runs the classical greedy sampling approach.\n",
    "\n",
    "Inputs:\n",
    "- Parameter space (a, b, sigma):\n",
    "  - a - Deterministic drift\n",
    "  -b - Mean reversion speed\n",
    "- sigma - volatility\n",
    "- Maximum number of greedy iterations: Imax\n",
    "- Number of maximum training candidates: c\n",
    "\n",
    "Outputs:\n",
    "- Reduced Basis: Q_d\n",
    "- Relative error between FOM and ROM: RelativeError\n",
    "- Speed up factor: SpeedUpFactor\n"
   ]
  },
  {
   "cell_type": "markdown",
   "metadata": {},
   "source": [
    "### Installation\n",
    "\n",
    "Install the input/output and statistics Ocatave package for reading/writting .xlsx files and manage random samples"
   ]
  },
  {
   "cell_type": "code",
   "execution_count": 1,
   "metadata": {},
   "outputs": [
    {
     "name": "stdout",
     "output_type": "stream",
     "text": [
      "warning: using the gnuplot graphics toolkit is discouraged\n",
      "\n",
      "The gnuplot graphics toolkit is not actively maintained and has a number\n",
      "of limitations that are ulikely to be fixed.  Communication with gnuplot\n",
      "uses a one-directional pipe and limited information is passed back to the\n",
      "Octave interpreter so most changes made interactively in the plot window\n",
      "will not be reflected in the graphics properties managed by Octave.  For\n",
      "example, if the plot window is closed with a mouse click, Octave will not\n",
      "be notified and will not update it's internal list of open figure windows.\n",
      "We recommend using the qt toolkit instead.\n",
      "\n",
      "error: get_forge_pkg: could not read URL, please verify internet connection\n",
      "error: called from\n",
      "    get_forge_pkg at line 72 column 7\n",
      "    get_forge_download at line 32 column 14\n",
      "    pkg at line 500 column 31\n",
      "error: source: No such file or directory\n"
     ]
    }
   ],
   "source": [
    "pkg install -forge io statistics\n",
    "pkg load io statistics"
   ]
  },
  {
   "cell_type": "markdown",
   "metadata": {
    "tags": []
   },
   "source": [
    "### Computations\n",
    "\n",
    "Model parameters"
   ]
  },
  {
   "cell_type": "code",
   "execution_count": 2,
   "metadata": {
    "collapsed": false,
    "jupyter": {
     "outputs_hidden": false
    }
   },
   "outputs": [],
   "source": [
    "M = 800;              % grid points along spatial direction\n",
    "T = 3660;             % Time to maturity in days (10 yrs)\n",
    "lower = -0.08;        % Lower bound of r given by eq. 5.33 book by Andreas\n",
    "upper = 0.08;\n",
    "% Model Parameters\n",
    "sigma = 0.006;\n",
    "a1 = xlsread('../benchmarks/DD_1FHWModel_10000.xlsx');\n",
    "a = a1(:,:);\n",
    "b = 0.015;\n",
    "% time step\n",
    "dt =20/360;\n",
    "% Maturity of a floater\n",
    "MT = 10; % MT = 10 or 5\n",
    "% Number of snapshots\n",
    "NS = 10; % 10"
   ]
  },
  {
   "cell_type": "markdown",
   "metadata": {},
   "source": [
    "Face value floor rate and cap rate with cap frequency "
   ]
  },
  {
   "cell_type": "code",
   "execution_count": 3,
   "metadata": {},
   "outputs": [],
   "source": [
    "FV =1;\n",
    "FloorR = 0.005;\n",
    "CapR = 0.025;\n",
    "CopFre = 4; % CopFre = 4 or 2.\n",
    "Maturity = 'Maturity10'; % Maturity = Maturity10, Maturity5."
   ]
  },
  {
   "cell_type": "markdown",
   "metadata": {},
   "source": [
    "Reference interest rate"
   ]
  },
  {
   "cell_type": "code",
   "execution_count": 4,
   "metadata": {},
   "outputs": [],
   "source": [
    "SwapCurves = xlsread('../benchmarks/ReferenceRate_1906.xlsx'); %% Obtained by runing SwapCurveSimulation.nb file\n",
    "FR1 = SwapCurves(:,[4:13]);\n",
    "RRFR = repelem(FR1./CopFre,1,CopFre);"
   ]
  },
  {
   "cell_type": "markdown",
   "metadata": {},
   "source": [
    "### Greedy Iterations\n",
    "\n",
    "Simulate the full model for the first parameter group"
   ]
  },
  {
   "cell_type": "code",
   "execution_count": 5,
   "metadata": {},
   "outputs": [
    {
     "name": "stdout",
     "output_type": "stream",
     "text": [
      "Elapsed time is 1793.56 seconds.\n"
     ]
    }
   ],
   "source": [
    "% Here the first parameter group with a(1:1,:) and b, sigma is shown.\n",
    "    [BOND,SnapShot1,Elapsed1] = FullModel(RRFR(1:1,:),a(1:1,:),b,sigma,M,...\n",
    "        lower,upper,dt,MT,FV,FloorR,CapR,CopFre,NS,Maturity);\n",
    "    \n",
    "    % Compute SVD and obtain Q\n",
    "    [U,~,V] = svd(SnapShot1{1},'econ');\n",
    "    Q_Niter = U;\n",
    "    \n",
    "    % Select the random parameter groups.\n",
    "    c = 20;\n",
    "    RandSel = randsample(length(a),c);\n",
    "    NpSel = a(RandSel,:);\n",
    "    RefR = RRFR(RandSel,:);\n",
    "    \n",
    "    % Set max tolerance and number of max iterations\n",
    "    Imax = 10;\n",
    "    max_tol = 1*10^-5; %= 0.001;\n",
    "    % Q_Niter = Q;\n",
    "    \n",
    "    tic;\n",
    "    % Greedy iterations start\n",
    "    for Niter = 2:Imax\n",
    "        \n",
    "        for j = 1:size(NpSel,1)    \n",
    "            % Solve c reduced models and computes error estimators\n",
    "            [BONDr,resd] = ReducedModel(RefR(j,:),NpSel(j,:),b,sigma,M,lower,...\n",
    "                upper,dt,MT,FV,FloorR,CapR,CopFre,Q_Niter);\n",
    "            Error(1,j) = resd; % Error estimators\n",
    "        end\n",
    "        \n",
    "        % Average error esitmator\n",
    "        avrg_error(1,(Niter-1)) = mean(Error);\n",
    "        \n",
    "        % Max locator\n",
    "        [max_Error(1,(Niter-1)),max_idErr(1,(Niter-1))] = max(Error(:));\n",
    "        \n",
    "        % Next Q and break for next iteration if convergence reach\n",
    "        if max_Error(1,(Niter-1)) < max_tol\n",
    "            Q = Q_Niter;\n",
    "            break\n",
    "        end\n",
    "        \n",
    "        paraGr = cat(1,a(1,:),NpSel([max_idErr],:));\n",
    "        RefRGr = cat(1,RRFR(1,:),RefR([max_idErr],:));\n",
    "        \n",
    "        [BOND,SnapShot_paraGr] = FullModel(RefRGr,paraGr,b,sigma,M,lower,...\n",
    "            upper,dt,MT,FV,FloorR,CapR,CopFre,NS,Maturity);\n",
    "        SnapShots = cat(2,SnapShot_paraGr{:});\n",
    "        RankS(1,Niter-1) = rank(SnapShots); \n",
    "        \n",
    "        % Randmized SVD of Snapshot matrix\n",
    "        [U1,S1,V1] = RandSVD(SnapShots,RankS(1,Niter-1));\n",
    "        \n",
    "        Q_Niter = U1;\n",
    "%     if Niter == NiterMax\n",
    "%        Q = Q_Niter;\n",
    "%     end\n",
    "    end\n",
    "    toc"
   ]
  },
  {
   "cell_type": "markdown",
   "metadata": {},
   "source": [
    "Selection of the reduced dimension"
   ]
  },
  {
   "cell_type": "code",
   "execution_count": 6,
   "metadata": {},
   "outputs": [],
   "source": [
    "Eg = diag(S1)./sum(diag(S1));\n",
    "% \n",
    "for ii = 1:length(Eg)\n",
    "    SumEg = sum(Eg(1:ii,1))*100;\n",
    "    if SumEg > 99.99\n",
    "        d = ii;\n",
    "        break\n",
    "    end\n",
    "end\n",
    "\n",
    "Q_d = Q_Niter(:,1:d);"
   ]
  },
  {
   "cell_type": "markdown",
   "metadata": {},
   "source": [
    "Select random parameter group for testing"
   ]
  },
  {
   "cell_type": "code",
   "execution_count": 7,
   "metadata": {},
   "outputs": [],
   "source": [
    "yy = randi([1 10000],1,1);\n",
    "\n",
    "tStart = tic; \n",
    "[BOND1] = FullModel(RRFR(yy,:),a(yy,:),b,sigma,M,lower,upper,dt,MT,FV,...\n",
    "    FloorR,CapR,CopFre,NS,Maturity);\n",
    "tEnd = toc(tStart)*10;\n",
    "% [BOND1] = FullModel(RRFR(yy,:),a(yy,:),b,sigma,M,lower,upper,dt,MT,FV,...\n",
    "%     FloorR,CapR,CopFre,NS,Maturity);\n",
    "% tEnd = toc(tStart)*10;\n",
    "tFM = tEnd;\n",
    "\n",
    "% % % % % % % % TotalTF = sum(Elapsed11);\n",
    "\n",
    "tStartRM = tic; \n",
    "[BOND1r] = ReducedModel(RRFR(yy,:),a(yy,:),b,sigma,M,lower,upper,dt,MT,FV,...\n",
    "    FloorR,CapR,CopFre,Q_d);\n",
    "tEndRM = toc(tStartRM);\n",
    "tRM = tEndRM*0.1;"
   ]
  },
  {
   "cell_type": "markdown",
   "metadata": {},
   "source": [
    "Compute relative error and plot outputs"
   ]
  },
  {
   "cell_type": "code",
   "execution_count": 17,
   "metadata": {
    "collapsed": false,
    "jupyter": {
     "outputs_hidden": false
    }
   },
   "outputs": [
    {
     "name": "stdout",
     "output_type": "stream",
     "text": [
      "ans = -30.291\n",
      "ans = -8.6858\n"
     ]
    },
    {
     "data": {
      "image/png": "[encoded data removed]",
      "text/plain": [
       "<IPython.core.display.Image object>"
      ]
     },
     "metadata": {},
     "output_type": "display_data"
    },
    {
     "data": {
      "image/png": "[encoded data removed]",
      "text/plain": [
       "<IPython.core.display.Image object>"
      ]
     },
     "metadata": {},
     "output_type": "display_data"
    },
    {
     "data": {
      "image/png": "[encoded data removed]",
      "text/plain": [
       "<IPython.core.display.Image object>"
      ]
     },
     "metadata": {},
     "output_type": "display_data"
    }
   ],
   "source": [
    "for kkk = 1:length(yy)\n",
    "    RelativeError(1,kkk) = norm((BOND1{kkk} - BOND1r{kkk}),2)/norm(BOND1{kkk},2);\n",
    "end\n",
    "\n",
    "% Quantities to plot\n",
    "avrgError_CG=avrg_error;MaxError_CG=max_Error;S=S1;\n",
    "\n",
    "% Plot outputs\n",
    "I = 1:Niter-1;\n",
    "figure\n",
    "semilogy(I,MaxError_CG,'k','LineWidth',1.5)\n",
    "hold on\n",
    "semilogy(I,avrgError_CG,'k--','LineWidth',1.5)\n",
    "legend({'Maximum Error','Average Error'},'Location','NorthEast')\n",
    "xlabel('Number of iterations')\n",
    "ylabel('Residual')\n",
    "hold off\n",
    "\n",
    "figure\n",
    "S2 = diag(S).^2;\n",
    "sumS2 = sum(S2);\n",
    "plot((S2/sumS2)*100,'ko','Linewidth',2); %Plot of singular values per mode\n",
    "xlabel('Principal Components')\n",
    "ylabel('Energy (%)')\n",
    "\n",
    "figure\n",
    "semilogy(S2/sum(S2),'ko','Linewidth',2); %logarithmic plot of singular values\n",
    "legend({'\\epsilon_{POD}'},'Location','NorthEast')\n",
    "xlabel('Number of POD modes')\n",
    "ylabel('Projection Error, \\epsilon_{POD}')"
   ]
  },
  {
   "cell_type": "code",
   "execution_count": null,
   "metadata": {},
   "outputs": [],
   "source": []
  }
 ],
 "metadata": {
  "anaconda-cloud": {},
  "kernelspec": {
   "display_name": "Octave",
   "language": "octave",
   "name": "octave"
  },
  "language_info": {
   "file_extension": ".m",
   "help_links": [
    {
     "text": "GNU Octave",
     "url": "https://www.gnu.org/software/octave/support.html"
    },
    {
     "text": "Octave Kernel",
     "url": "https://github.com/Calysto/octave_kernel"
    },
    {
     "text": "MetaKernel Magics",
     "url": "https://metakernel.readthedocs.io/en/latest/source/README.html"
    }
   ],
   "mimetype": "text/x-octave",
   "name": "octave",
   "version": "6.4.0"
  }
 },
 "nbformat": 4,
 "nbformat_minor": 4
}
