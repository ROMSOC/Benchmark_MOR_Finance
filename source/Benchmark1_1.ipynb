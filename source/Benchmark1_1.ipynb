{
 "cells": [
  {
   "cell_type": "markdown",
   "metadata": {},
   "source": [
    "Benchmarks for model order reduction in finance\n",
    "============\n",
    "\n",
    "### Benchmark Case 1: Yield Curve Simulation\n",
    "\n",
    "The first proposed benchmark case is to validate the numerical methods implemented for the simulation of yield curves and parameter calibration.\n",
    "\n",
    "We perform a principal component analysis on the collected historical \n",
    "data to ensure that the simulation results in a consistent curve. \n",
    "Further, using the principal components corresponding to their maximum energies, \n",
    "we calculate the consistent interest rates and composed them into \n",
    "a matrix called as the matrix of returns. \n",
    "Finally, we obtain the simulated yield curve by applying the bootstrapping \n",
    "procedure on the matrix of returns. To fulfill the regulations demand,\n",
    "we perform the bootstrapping process for at least 10,000 times. \n",
    "The detailed procedure can be found in the PRIIPs regulations.\n",
    "\n",
    "Run file named 'YieldCurveSimulation.m' for the first Benchmark\n",
    "\n",
    "Inputs:\n",
    "- Historical Interest rate data : A\n",
    "\n",
    "Outputs:\n",
    "- Simulated yield curves : Sim_return\n",
    "- Simulated yield curves in Percentage: Sim_returnPerc\n",
    "- Simulated yield curve plot\n"
   ]
  },
  {
   "cell_type": "markdown",
   "metadata": {},
   "source": [
    "### Installation\n",
    "\n",
    "Install the input/output and statistics Ocatave package for reading/writting .xlsx files and manage random samples"
   ]
  },
  {
   "cell_type": "code",
   "execution_count": 1,
   "metadata": {},
   "outputs": [
    {
     "name": "stdout",
     "output_type": "stream",
     "text": [
      "warning: using the gnuplot graphics toolkit is discouraged\n",
      "\n",
      "The gnuplot graphics toolkit is not actively maintained and has a number\n",
      "of limitations that are ulikely to be fixed.  Communication with gnuplot\n",
      "uses a one-directional pipe and limited information is passed back to the\n",
      "Octave interpreter so most changes made interactively in the plot window\n",
      "will not be reflected in the graphics properties managed by Octave.  For\n",
      "example, if the plot window is closed with a mouse click, Octave will not\n",
      "be notified and will not update it's internal list of open figure windows.\n",
      "We recommend using the qt toolkit instead.\n",
      "\n",
      "For information about changes from previous versions of the statistics package, run 'news statistics'.\n",
      "error: source: No such file or directory\n"
     ]
    }
   ],
   "source": [
    "pkg install -forge io statistics\n",
    "pkg load io statistics"
   ]
  },
  {
   "cell_type": "markdown",
   "metadata": {
    "tags": []
   },
   "source": [
    "### Computations\n",
    "\n",
    "Read the interest rate matrix (historical data)"
   ]
  },
  {
   "cell_type": "code",
   "execution_count": 12,
   "metadata": {
    "collapsed": false,
    "jupyter": {
     "outputs_hidden": false
    }
   },
   "outputs": [],
   "source": [
    "A = xlsread('../benchmarks/HistoricalData.xlsx');\n",
    "%% Correct the interest rates making sure all elements are positive\n",
    "\n",
    "a = 0.1; % correction factor\n",
    "corr_A1 = A+a;\n",
    "% corr_A = corr_A1(:,[5 8:end]);\n",
    "corr_A = corr_A1;\n",
    "%all(corr_A,1); %check whether all elements are positive\n",
    "B = zeros(1306,20);\n",
    "\n",
    "for i=2:1306\n",
    "    for j=1:20\n",
    "        B(i,j) = log(corr_A(i,j)/corr_A(i-1,j)); % 23(iii) PRIIPS\n",
    "    end\n",
    "end\n",
    "\n",
    "B1 = B(2:end,:);\n"
   ]
  },
  {
   "cell_type": "markdown",
   "metadata": {},
   "source": [
    "Correct the returns for zero mean"
   ]
  },
  {
   "cell_type": "code",
   "execution_count": 13,
   "metadata": {},
   "outputs": [],
   "source": [
    "mean_B = mean(B1,1);\n",
    "mean_mat = zeros(1305,20);\n",
    "for i=1:20\n",
    "    mean_mat(:,i) = mean_B(:,i);\n",
    "end\n",
    "\n",
    "BarBarA= B1 - mean_mat;"
   ]
  },
  {
   "cell_type": "markdown",
   "metadata": {},
   "source": [
    "Convariance Matrix"
   ]
  },
  {
   "cell_type": "code",
   "execution_count": 14,
   "metadata": {},
   "outputs": [
    {
     "data": {
      "image/png": "[encoded data removed]",
      "text/plain": [
       "<IPython.core.display.Image object>"
      ]
     },
     "metadata": {},
     "output_type": "display_data"
    },
    {
     "data": {
      "image/png": "[encoded data removed]",
      "text/plain": [
       "<IPython.core.display.Image object>"
      ]
     },
     "metadata": {},
     "output_type": "display_data"
    }
   ],
   "source": [
    "B1T = transpose(BarBarA);\n",
    "%\n",
    "covarianceMat = B1T*BarBarA;\n",
    "%\n",
    "p =10;\n",
    "[Vr, Fig1, Fig2] = PCA_YC(BarBarA, p);\n",
    "\n",
    "BVr = BarBarA*Vr; % 23 (a)(ix)"
   ]
  },
  {
   "cell_type": "markdown",
   "metadata": {},
   "source": [
    "Matrix of Returns"
   ]
  },
  {
   "cell_type": "code",
   "execution_count": 15,
   "metadata": {},
   "outputs": [],
   "source": [
    "VrT = transpose(Vr);\n",
    "Matreturns = BVr * VrT; %23 (a)(x)\n",
    "Matreturns_1 = [Matreturns;Matreturns;Matreturns];"
   ]
  },
  {
   "cell_type": "markdown",
   "metadata": {},
   "source": [
    "Forward Rates"
   ]
  },
  {
   "cell_type": "code",
   "execution_count": 16,
   "metadata": {},
   "outputs": [],
   "source": [
    "rc = corr_A(1306,:); %Current Value at tenor\n",
    "r = zeros (1,20); "
   ]
  },
  {
   "cell_type": "markdown",
   "metadata": {},
   "source": [
    "Query points for interpolation. These are the points where we dont have historical data, thus interpolation. See Binder017 for more details. See also PRIIPs regulations for more details"
   ]
  },
  {
   "cell_type": "code",
   "execution_count": 17,
   "metadata": {},
   "outputs": [],
   "source": [
    "% Query points 10 years\n",
    "xq = [(10+(92/260)) (10+(183/260)) (10+(275/260)) 11 13 14 16 17 18 19 22 35 60];\n",
    "\n",
    "% Query points 5 years\n",
    "% xq = [(65/260)+5 (130/260)+5 (195/260)+5 11 13 14 17 35 45 55];\n",
    "% % FR=xlsread('FR.xlsx');\n",
    "\n",
    "HP = 'ten'; % ten or five\n",
    "\n",
    "[Interp_Rates] = Interpolate(A, xq, HP);\n",
    "\n",
    "A_temp = A;\n",
    "\n",
    "rc1 = A_temp(1306,:);\n",
    "\n",
    "%% 10 yr\n",
    "TX = [(65/260)+10 (130/260)+10 (195/260)+10 11 12 13 14 15 16 17 18 19 20 22 25 30 35 40 50 60];\n",
    "TY = [(65/260) (130/260) (195/260) 1 2 3 4 5 6 7 8 9 10 12 15 20 25 30 40 50];\n",
    "\n",
    "%% 5 yr\n",
    "% TX = [(65/260)+5 (130/260)+5 (195/260)+5 6 7 8 9 10 11 12 13 14 15 17 20 25 30 35 45 55];\n",
    "% TY = [(65/260) (130/260) (195/260) 1 2 3 4 5 6 7 8 9 10 12 15 20 25 30 40 50];\n",
    "\n",
    "for j = 1:20\n",
    "    r(:,j) = (Interp_Rates(:,j)*TX(:,j) - rc1(:,j)*TY(:,j))/(TX(:,j) - TY(:,j)); %Compounded FR\n",
    "end"
   ]
  },
  {
   "cell_type": "markdown",
   "metadata": {},
   "source": [
    "Simulations: Simulated yield curves ans its mean"
   ]
  },
  {
   "cell_type": "code",
   "execution_count": 18,
   "metadata": {
    "collapsed": false,
    "jupyter": {
     "outputs_hidden": false
    }
   },
   "outputs": [],
   "source": [
    "adjust_Mat1 = zeros(10000,20);\n",
    "Second_shiftMat = zeros(10000,20);\n",
    "for i = 1:10000\n",
    "    a = randsample(length(Matreturns_1),2600);\n",
    "    Sel = Matreturns_1(a,:); %Randomly selected rows (23(b) (i))\n",
    "    rs = sum(Sel,1);\n",
    "    ers = exp(rs);\n",
    "    ers11 = rc.*ers; %corrected interest rates adjustment 23(b) (ii)\n",
    "    adj1 = ers11 - 0.1;\n",
    "    adjust_Mat1(i,:) = adj1;\n",
    "end\n",
    "mean_adj1 = mean(adjust_Mat1,1);\n",
    "Second_shift = r - mean_adj1;\n",
    "for i = 1:20\n",
    "    Second_shiftMat(:,i) = Second_shift(:,i);\n",
    "end\n",
    "\n",
    "%% Simulated yield curves\n",
    "Sim_return = adjust_Mat1+Second_shiftMat; %Second Adjustment 23(b) (ii)\n",
    "\n",
    "%% Mean of simulated yield curves\n",
    "mean_sim = mean(Sim_return);\n",
    "    %Sim_return(i,:) = Return;\n",
    "%% Final simulated yield curves in %\n",
    "Sim_returnPerc = Sim_return.*100; %Percentage Simulated Returns\n",
    "% xlswrite('Sim_returns_Perct_10_c10_5yr.xlsx',Sim_return);\n",
    "TenorPoints = [(65/260) (130/260) (195/260) 1 2 3 4 5 6 7 8 9 10 12 15 20 25 30 40 50];"
   ]
  },
  {
   "cell_type": "markdown",
   "metadata": {},
   "source": [
    "Plot and write (only the first 100 curves)"
   ]
  },
  {
   "cell_type": "code",
   "execution_count": 23,
   "metadata": {},
   "outputs": [
    {
     "data": {
      "image/png": "[encoded data removed]",
      "text/plain": [
       "<IPython.core.display.Image object>"
      ]
     },
     "metadata": {},
     "output_type": "display_data"
    }
   ],
   "source": [
    "X = [1 5 10 15 20 25 30 40 50];\n",
    "T1 = [(65/260) (130/260) (195/260) 1 2 3 4 5 6 7 8 9 10 12 15 20 25 30 40 50];\n",
    "plot(T1,Sim_returnPerc(1:100,:)')\n",
    "%set(gca,'FontSize',14)\n",
    "%set(gcf, 'Position',  [100, 100, 800, 500])\n",
    "%ax.FontSize = 14;\n",
    "xticks(X);\n",
    "ylim([-3 7]);\n",
    "xlabel('Terms in years','fontsize',18,'interpreter','latex');\n",
    "ylabel('Simulated yield curves','fontsize',18,'interpreter','latex');\n",
    "grid on\n",
    "%xlswrite('../Benchmarks/SimulatedYieldCurves.xlsx', Sim_return(:,[1 4:13]));"
   ]
  },
  {
   "cell_type": "code",
   "execution_count": null,
   "metadata": {
    "jupyter": {
     "source_hidden": true
    },
    "tags": []
   },
   "outputs": [],
   "source": []
  }
 ],
 "metadata": {
  "anaconda-cloud": {},
  "kernelspec": {
   "display_name": "Octave",
   "language": "octave",
   "name": "octave"
  },
  "language_info": {
   "file_extension": ".m",
   "help_links": [
    {
     "text": "GNU Octave",
     "url": "https://www.gnu.org/software/octave/support.html"
    },
    {
     "text": "Octave Kernel",
     "url": "https://github.com/Calysto/octave_kernel"
    },
    {
     "text": "MetaKernel Magics",
     "url": "https://metakernel.readthedocs.io/en/latest/source/README.html"
    }
   ],
   "mimetype": "text/x-octave",
   "name": "octave",
   "version": "6.4.0"
  }
 },
 "nbformat": 4,
 "nbformat_minor": 4
}
